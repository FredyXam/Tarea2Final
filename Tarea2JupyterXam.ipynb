{
 "cells": [
  {
   "cell_type": "markdown",
   "metadata": {},
   "source": [
    "#### *Marto Fredy Xam Chivalán 20 000 144*\n",
    "#### *Ciencia de Datos en Python*\n",
    "#### *Febrero 2021*\n",
    "\n",
    "# **Laboratorio # 2 Jupyter Notebooks, Markdown y Git**"
   ]
  },
  {
   "cell_type": "markdown",
   "metadata": {},
   "source": [
    "> Es útil para conocer versiones anteriores de los códigos realizados, ya sea por una persona o un equipo de trabajo, regularmente los diferentes procesos por lo que va pasando un código tiene cosas funcionales y cosas que no, pero cuando en algún momento se trata de rescatar una función que se desechó y podría ser útil en un proceso actual es muy difícil identificarla, si es que aún se tiene la probabilidad de recuperarla. Git permite utilizar un código en su versión anterior, aún cuando ésta ya esté en funcionamiento.\n",
    "\n",
    "Todo código se encuentre habitualmente guardado en una carpeta que tiene cierta dirección de acuerdo al equipo en el que se esté trabajando, sin embargo, el equipo de una persona no tendrá la misma dirección de trabajo que otra, al mismo tiempo no tiene los mismos archivos, y a esto lo conocemos como un árbol de archivos. Su objetivo es buscar los archivos y utilizar las funciones para identificarlos de manera eficiente y exacta, al momento de cambiar de equipo un código, y esto se logra con la función hash, lo cual redirecciona los archivos.\n",
    "\n",
    "La forma en la que identifica las versiones es por medio de un ID, que es generado con cada forma que haya tenido el código durante el desarrollo del código final, también se considera la referencia del archivo, es decir su ubicación en el a que se encuentra guardada en un equipo, lo cual permite gestionar fácilmente los archivos y referencias.\n",
    "\n",
    "### Permiten tener un control sobre los cambios como:\n",
    "\n",
    "1.\tQuien realizó las modificaciones\n",
    "2.\tCuando se realizaron los cambios\n",
    "3.\tQué versiones se tienen\n",
    "\n",
    "\n",
    "\n",
    "### Las características principales de Git son:\n",
    "\n",
    "1.\tControl de versiones\n",
    "2.\tMantener un histórico\n",
    "3.\tPermitir ramas\n",
    "4.\tPermitir la colaboración\n",
    "\n",
    "\n",
    "\n",
    "### Los principales conceptos de Git:\n",
    "\n",
    "* Un archivo = “blob”\n",
    "* Referencia = “árbol”\n",
    "\n",
    "\n",
    "\n",
    "### Pasos realizados en este trabajo:\n",
    "\n",
    "1. Crear el ensayo de la clase de GIT.\n",
    "2. Crear el ensaryo en Jupyter Notebook.\n",
    "3. Desde visual studio code abrir el archivo.\n",
    "4. Se corren los comandos de \n",
    "5. Git versión: se verifica la versión de Git.\n",
    "6. Git init: solo se realiza una vez por repositorio al inicio.\n",
    "7. Git status: para conocer los archivos del repositorio.\n",
    "8. Git add Tarea2JupyterXam.ipynb: para iniciar el proceso de Git en este archivo, es decir en el área temporal, el “Tarea2JupyterXam.ipynb” es el nombre del archivo.\n",
    "9. Git commit: para agregar un comentario al archivo, realizarlo siempre cuando se configure por primera vez.\n",
    "10. Git status -s: muestra aquellos archivos del repositorio que Git no les está brindando algún proceso.\n",
    "11. Git add . : ingresa todos los archivos del repositorio al proceso de Git.\n",
    "12. Git log --oneline: para identificar todos los commit “comentarios”.\n",
    " \n",
    "13. Git reset --hard 20f7f4a: Esto es para llamar una versión anterior del código, ya que con cada commit es más fácil identificar que cambio se realizó, en este caso el original es el código 20f7f4a.\n",
    " \n",
    "14. Luego nuevamente log -- oneline: para conocer los comentarios y posteriormente se quiso volver a traer la versión modificada con “Git.\n",
    " \n",
    "15. Git add . : Toma todos los archivos al área temporal nuevamente.\n",
    "16.\tPara publicar en GitHub se debe iniciar sesión en su portal, paso 1 crear un nuevo repositorio, luego en el paso 2 copiar los comandos en “…or push an existing repository from the command line” y ejecutarlo uno a uno, en la terminal donde hemos estado trabajando.\n",
    "17. git remote add origin https://github.com/FredyXam/Tarea2Jupyter.git\n",
    "\n",
    "\n",
    "### Conclusiones\n",
    "\n",
    "> Git es una herramienta versatil que gestiona las versiones de los codigos, se puede utilizar a nivel individual o a nivel de quipo de trabajo en un proyecto que con lleve la participación de varias personas, por lo que es de suma importancia conocer sus principales bondades, y una de ellas es tener el control de las versiones que se han realizado, que cambios se han aplicado, quienes han realizado los cambios, y sobre todo poder reutilizar los codigos de otras versiones y personas durante el desarrollo actual o bien en el futuro para fortalecer o solucionar algun problema, por lo que es una herramienta que puede aportar enriquecidamente a la elaboración de codigo.\n"
   ]
  }
 ],
 "metadata": {
  "kernelspec": {
   "display_name": "Python 3",
   "language": "python",
   "name": "python3"
  },
  "language_info": {
   "codemirror_mode": {
    "name": "ipython",
    "version": 3
   },
   "file_extension": ".py",
   "mimetype": "text/x-python",
   "name": "python",
   "nbconvert_exporter": "python",
   "pygments_lexer": "ipython3",
   "version": "3.8.5"
  }
 },
 "nbformat": 4,
 "nbformat_minor": 4
}
